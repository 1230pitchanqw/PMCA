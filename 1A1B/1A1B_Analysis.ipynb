{
 "cells": [
  {
   "cell_type": "code",
   "execution_count": null,
   "metadata": {
    "collapsed": true
   },
   "outputs": [],
   "source": [
    "import numpy as np\n",
    "import _pickle as pickle\n",
    "import math\n",
    "from scipy import stats\n",
    "from collections import Counter\n",
    "import pandas as pd\n",
    "import matplotlib.pyplot as plt\n",
    "import matplotlib.cm as cm"
   ]
  },
  {
   "cell_type": "code",
   "execution_count": null,
   "metadata": {
    "collapsed": true
   },
   "outputs": [],
   "source": [
    "pid_claim_map = pickle.load(open('../PMCA/pid_claim_map','rb'))\n",
    "claim_info_map = pickle.load(open('../PMCA/claim_info_map','rb'))"
   ]
  },
  {
   "cell_type": "code",
   "execution_count": null,
   "metadata": {},
   "outputs": [],
   "source": [
    "PFK_ICD_DATA_TABLE = pd.read_csv(open('./PFK_ICD_DATA_TABLE - Copy.csv'),dtype=str,header=None)\n",
    "icd10toicd9 = pickle.load(open('./icd10toicd9','rb'))"
   ]
  },
  {
   "cell_type": "code",
   "execution_count": null,
   "metadata": {
    "collapsed": true
   },
   "outputs": [],
   "source": [
    "nonzero_index = pickle.load(open('../table/nonzero_index','rb'))\n",
    "group_id = pickle.load(open('../table/group_id','rb'))\n",
    "zero_index = []\n",
    "for i in range(len(pid_claim_map)):\n",
    "    if i not in nonzero_index: zero_index.append(i)"
   ]
  },
  {
   "cell_type": "code",
   "execution_count": null,
   "metadata": {
    "collapsed": true
   },
   "outputs": [],
   "source": [
    "code_cat_map = {}\n",
    "for code, cat in zip(PFK_ICD_DATA_TABLE[0],PFK_ICD_DATA_TABLE[1]):\n",
    "    code_cat_map[code.replace('.', '')] = cat"
   ]
  },
  {
   "cell_type": "code",
   "execution_count": null,
   "metadata": {
    "collapsed": true
   },
   "outputs": [],
   "source": [
    "def type_flag(p_codes):\n",
    "    flags = [0]\n",
    "    for c in p_codes:\n",
    "        if c in code_cat_map:\n",
    "            flags.append(int(code_cat_map[c]))\n",
    "    return max(flags)"
   ]
  },
  {
   "cell_type": "code",
   "execution_count": null,
   "metadata": {
    "collapsed": true
   },
   "outputs": [],
   "source": [
    "def PT_check(pid_claim_map, claim_info_map, early_age):\n",
    "    pid_codes_list = []\n",
    "    pid_type_list = []\n",
    "    icd_codes = []\n",
    "    for p in pid_claim_map:\n",
    "        p_codes = []\n",
    "        for claim in pid_claim_map[p]:\n",
    "            for info in claim_info_map[claim]:\n",
    "                svcdt = info[4]\n",
    "                dob = info[6]\n",
    "                if early_age == 1:\n",
    "                    if (svcdt - dob).days > 2*365 or (svcdt - dob).days < 0.5*365:continue \n",
    "                if early_age == 0:\n",
    "                    if (svcdt - dob).days > 5*365 or (svcdt - dob).days < 2*365:continue      \n",
    "                p_codes.extend(info[1])\n",
    "                icd_codes.extend(info[1])\n",
    "        p_codes = [x.replace('.','') for x in p_codes if len(x)>0]\n",
    "        p_codes = [icd10toicd9[c] if c in icd10toicd9 else c for c in p_codes]\n",
    "        p_codes = list(set(p_codes))\n",
    "        pid_codes_list.append(p_codes)\n",
    "        pid_type_list.append(type_flag(p_codes))\n",
    "    return pid_codes_list, pid_type_list"
   ]
  },
  {
   "cell_type": "code",
   "execution_count": null,
   "metadata": {},
   "outputs": [],
   "source": [
    "_, pid_type_list_early = PT_check(pid_claim_map, claim_info_map, early_age=1)\n",
    "_, pid_type_list_late = PT_check(pid_claim_map, claim_info_map, early_age=0)"
   ]
  },
  {
   "cell_type": "code",
   "execution_count": null,
   "metadata": {
    "collapsed": true
   },
   "outputs": [],
   "source": []
  },
  {
   "cell_type": "code",
   "execution_count": null,
   "metadata": {
    "collapsed": true
   },
   "outputs": [],
   "source": [
    "def bar_list(values, names):\n",
    "    count = Counter(values)\n",
    "    count_names = [0,1,2,3]\n",
    "    bar = [(count[0]+count[1])/len(values)] + [count[i]/len(values) for i in count_names]\n",
    "    return bar\n",
    "\n",
    "def analysis_plot(patient_condition, zero_index, group_id):\n",
    "    barWidth = 0.9\n",
    "    patient_condition = np.array(patient_condition)\n",
    "    names = ['1A+1B', '1A', '1B', 'TYPE-2', 'NONE']\n",
    "    colors = cm.rainbow(np.linspace(0, 1, 6))\n",
    "    \n",
    "    bar_overall = bar_list(patient_condition, names)\n",
    "    bar_group_0 = bar_list(patient_condition[zero_index], names)\n",
    "    bar_group_1 = bar_list(patient_condition[np.array(nonzero_index)[group_id[0]]], names)\n",
    "    bar_group_2 = bar_list(patient_condition[np.array(nonzero_index)[group_id[1]]], names)\n",
    "    bar_group_3 = bar_list(patient_condition[np.array(nonzero_index)[group_id[2]]], names)\n",
    "    bar_group_4 = bar_list(patient_condition[np.array(nonzero_index)[group_id[3]]], names)\n",
    "    gap = [0]*len(names)\n",
    "    \n",
    "    r1 = [1+ x*7 for x in range(len(names))]\n",
    "    r2 = [2+ x*7 for x in range(len(names))]\n",
    "    r3 = [3+ x*7 for x in range(len(names))]\n",
    "    r4 = [4+ x*7 for x in range(len(names))]\n",
    "    r5 = [5+ x*7 for x in range(len(names))]\n",
    "    r6 = [6+ x*7 for x in range(len(names))]\n",
    "    r7 = [7+ x*7 for x in range(len(names))]\n",
    "    \n",
    "    plt.xticks([3 + x*7 for x in range(len(names))], [x[2:15] for x in names])\n",
    "\n",
    "    plt.bar(r1, bar_overall, alpha = 0.5, width = barWidth, color = colors[0], label='bar_overall, n='+str(len(patient_condition)))\n",
    "    plt.bar(r2, bar_group_0, alpha = 0.5, width = barWidth, color = colors[1], label='bar_group_0, n='+str(len(patient_condition[zero_index])))\n",
    "    plt.bar(r3, bar_group_1, alpha = 0.5, width = barWidth, color = colors[2], label='bar_group_1, n='+str(len(patient_condition[np.array(nonzero_index)[group_id[0]]])))\n",
    "    plt.bar(r4, bar_group_2, alpha = 0.5, width = barWidth, color = colors[3], label='bar_group_2, n='+str(len(patient_condition[np.array(nonzero_index)[group_id[1]]])))\n",
    "    plt.bar(r5, bar_group_3, alpha = 0.5, width = barWidth, color = colors[4], label='bar_group_3, n='+str(len(patient_condition[np.array(nonzero_index)[group_id[2]]])))\n",
    "    plt.bar(r6, bar_group_4, alpha = 0.5, width = barWidth, color = colors[5], label='bar_group_4, n='+str(len(patient_condition[np.array(nonzero_index)[group_id[3]]])))\n",
    "    plt.bar(r7, gap, width = barWidth)\n",
    "\n",
    "    plt.legend()\n",
    "    plt.show()"
   ]
  },
  {
   "cell_type": "code",
   "execution_count": null,
   "metadata": {},
   "outputs": [],
   "source": [
    "analysis_plot(pid_type_list_late, zero_index, group_id)"
   ]
  },
  {
   "cell_type": "code",
   "execution_count": null,
   "metadata": {},
   "outputs": [],
   "source": [
    "analysis_plot(pid_type_list_late, zero_index, group_id)"
   ]
  },
  {
   "cell_type": "code",
   "execution_count": null,
   "metadata": {
    "collapsed": true
   },
   "outputs": [],
   "source": []
  }
 ],
 "metadata": {
  "kernelspec": {
   "display_name": "Python 3",
   "language": "python",
   "name": "python3"
  }
 },
 "nbformat": 4,
 "nbformat_minor": 2
}
