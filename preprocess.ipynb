{
 "cells": [
  {
   "cell_type": "code",
   "execution_count": 1,
   "metadata": {
    "collapsed": true
   },
   "outputs": [],
   "source": [
    "import pandas as pd\n",
    "import numpy as np\n",
    "from datetime import datetime\n",
    "import _pickle as pickle"
   ]
  },
  {
   "cell_type": "markdown",
   "metadata": {},
   "source": [
    "# Selecting patients with full eligibility from age 2 to 5"
   ]
  },
  {
   "cell_type": "code",
   "execution_count": 2,
   "metadata": {
    "collapsed": true
   },
   "outputs": [],
   "source": [
    "pid_eli_map = {}\n",
    "with open(\"/Users/xxz005/Desktop/Raw_Data/PFKJan09Jul17/Eligibility.txt\") as infile:\n",
    "    next(infile)\n",
    "    for line in infile:\n",
    "        line = line.split('|')\n",
    "        pid = line[0]\n",
    "        eli_month = line[1]\n",
    "        if pid not in pid_eli_map:\n",
    "            pid_eli_map[pid] = [eli_month]\n",
    "        else:\n",
    "            pid_eli_map[pid].append(eli_month)"
   ]
  },
  {
   "cell_type": "code",
   "execution_count": 3,
   "metadata": {
    "collapsed": true
   },
   "outputs": [],
   "source": [
    "pid_dob_map = {}\n",
    "count = 0\n",
    "with open(\"/Users/xxz005/Desktop/Raw_Data/PFKJan09Jul17/Claims.txt\") as infile:\n",
    "    next(infile)\n",
    "    for line in infile:\n",
    "        count+=1\n",
    "        line=line.split(\"|\")\n",
    "        if len(line[51])<4:continue\n",
    "        pid = line[0]\n",
    "        dob=line[51][:9]\n",
    "        pid_dob_map[pid] = dob"
   ]
  },
  {
   "cell_type": "code",
   "execution_count": 4,
   "metadata": {
    "collapsed": true
   },
   "outputs": [],
   "source": [
    "def eli_check(pid_eli_map, pid_dob_map):\n",
    "    population = []\n",
    "    for p in pid_dob_map:\n",
    "        dob = datetime.strptime(pid_dob_map[p], '%d%b%Y')\n",
    "        month_id = [datetime.strptime(x, '%Y%m') for x in pid_eli_map[p]]\n",
    "        full_eli = [i for i in month_id if (i-dob).days >180 and (i-dob).days <1825]\n",
    "        \n",
    "        if len(set(full_eli))!=54:continue\n",
    "        #print(full_eli)\n",
    "        #if min(full_eli)>datetime.strptime('201001', '%Y%m'):continue\n",
    "        #if min(full_eli)<datetime.strptime('200906', '%Y%m'):continue\n",
    "        population.append(p)\n",
    "    return population"
   ]
  },
  {
   "cell_type": "code",
   "execution_count": 5,
   "metadata": {},
   "outputs": [
    {
     "data": {
      "text/plain": [
       "24223"
      ]
     },
     "execution_count": 5,
     "metadata": {},
     "output_type": "execute_result"
    }
   ],
   "source": [
    "population = eli_check(pid_eli_map, pid_dob_map)\n",
    "len(population)"
   ]
  },
  {
   "cell_type": "code",
   "execution_count": 6,
   "metadata": {
    "collapsed": true
   },
   "outputs": [],
   "source": [
    "selected_population = []\n",
    "\n",
    "with open(\"/Users/xxz005/Desktop/Raw_Data/PFKJan09Jul17/Claims.txt\") as infile:\n",
    "    next(infile)\n",
    "    for line in infile:\n",
    "        line=line.split(\"|\")\n",
    "        pid = line[0]\n",
    "        if pid not in population:continue\n",
    "        selected_population.append(line)"
   ]
  },
  {
   "cell_type": "markdown",
   "metadata": {},
   "source": [
    "# Build mapping tables: 1) from patient to claims. 2) from claim to information"
   ]
  },
  {
   "cell_type": "code",
   "execution_count": 15,
   "metadata": {
    "collapsed": true
   },
   "outputs": [],
   "source": [
    "pid_claim_map = {}\n",
    "claim_info_map = {}\n",
    "\n",
    "for line in selected_population:\n",
    "    pid = line[0]\n",
    "    claim_id = line[2]\n",
    "    enc_id = line[141]\n",
    "    gender = line[10]\n",
    "    diag_set = line[13:16]+line[65:70]+line[93:110]\n",
    "    paid = line[46]\n",
    "    proc = line[21]\n",
    "    majcat = line[39]\n",
    "    dob = line[51][:9]\n",
    "    svcdt = line[27][:9]\n",
    "    if len(svcdt):svcdt = datetime.strptime(svcdt, '%d%b%Y')\n",
    "    else:svcdt = datetime.strptime('08AUG8888', '%d%b%Y')\n",
    "    \n",
    "    if len(dob):dob = datetime.strptime(dob, '%d%b%Y')\n",
    "    else:dob = datetime.strptime('08AUG8888', '%d%b%Y')\n",
    "    \n",
    "    pid_claim_id = pid+\"_\"+claim_id\n",
    "    if pid not in pid_claim_map:\n",
    "        pid_claim_map[pid] = [pid_claim_id]\n",
    "    else:\n",
    "        pid_claim_map[pid].append(pid_claim_id)\n",
    "        pid_claim_map[pid] = list(set(pid_claim_map[pid]))\n",
    "    \n",
    "    if pid_claim_id not in claim_info_map:\n",
    "        claim_info_map[pid_claim_id] = [[claim_id, diag_set, proc, majcat, svcdt, gender, dob, paid, enc_id]]\n",
    "    else:\n",
    "        claim_info_map[pid_claim_id].append([claim_id, diag_set, proc, majcat, svcdt, gender, dob, paid, enc_id])"
   ]
  },
  {
   "cell_type": "code",
   "execution_count": 16,
   "metadata": {
    "collapsed": true
   },
   "outputs": [],
   "source": [
    "pickle.dump(pid_claim_map, open('pid_claim_map','wb'))\n",
    "pickle.dump(claim_info_map, open('claim_info_map','wb'))"
   ]
  },
  {
   "cell_type": "code",
   "execution_count": null,
   "metadata": {
    "collapsed": true
   },
   "outputs": [],
   "source": []
  }
 ],
 "metadata": {
  "kernelspec": {
   "display_name": "Python 3",
   "language": "python",
   "name": "python3"
  },
  "language_info": {
   "codemirror_mode": {
    "name": "ipython",
    "version": 3
   },
   "file_extension": ".py",
   "mimetype": "text/x-python",
   "name": "python",
   "nbconvert_exporter": "python",
   "pygments_lexer": "ipython3",
   "version": "3.6.1"
  }
 },
 "nbformat": 4,
 "nbformat_minor": 2
}
