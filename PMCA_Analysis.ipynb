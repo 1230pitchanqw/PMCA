{
 "cells": [
  {
   "cell_type": "code",
   "execution_count": null,
   "metadata": {},
   "outputs": [],
   "source": [
    "import numpy as np\n",
    "import _pickle as pickle\n",
    "import math\n",
    "from scipy import stats\n",
    "from collections import Counter\n",
    "from PMCA import *\n",
    "import matplotlib.pyplot as plt\n",
    "import random"
   ]
  },
  {
   "cell_type": "code",
   "execution_count": null,
   "metadata": {
    "collapsed": true
   },
   "outputs": [],
   "source": [
    "pid_claim_map = pickle.load(open('./pid_claim_map','rb'))\n",
    "claim_info_map = pickle.load(open('./claim_info_map','rb'))"
   ]
  },
  {
   "cell_type": "code",
   "execution_count": null,
   "metadata": {
    "collapsed": true
   },
   "outputs": [],
   "source": [
    "group_id = pickle.load(open('../table/group_id','rb'))\n",
    "nonzero_index = pickle.load(open('../table/nonzero_index','rb'))\n",
    "zero_index = []\n",
    "for i in range(len(pid_claim_map)):\n",
    "    if i not in nonzero_index: zero_index.append(i)"
   ]
  },
  {
   "cell_type": "code",
   "execution_count": null,
   "metadata": {
    "collapsed": true
   },
   "outputs": [],
   "source": [
    "def check_icd10_flag(diag_set):\n",
    "    count_e = 0\n",
    "    count_v = 0\n",
    "    icd_10 = ['A', 'B', 'C', 'D', 'F', 'G', 'H', 'I', 'J', 'K', 'L', 'M', 'N', 'O',\\\n",
    "             'P', 'Q', 'R', 'S', 'T', 'U', 'W', 'X', 'Y', 'Z']\n",
    "    icd_9 = ['0', '1', '2', '3', '4', '5', '6', '7', '8', '9']\n",
    "    e_code = ['E']\n",
    "    v_code = ['V']\n",
    "    for c in diag_set:\n",
    "        if c[0] in icd_10:return 1\n",
    "        if c[0] in icd_9:return 0\n",
    "        if c[0] in e_code:count_e+=1\n",
    "        if c[0] in v_code:count_v+=1\n",
    "    if count_e==1 and count_v==0:return 1\n",
    "    if count_e==0 and count_v==1:return 0\n",
    "    return 0"
   ]
  },
  {
   "cell_type": "code",
   "execution_count": null,
   "metadata": {
    "collapsed": true
   },
   "outputs": [],
   "source": [
    "def PC_check(pid_claim_map, claim_info_map, early_age, PMCA_more_flag):\n",
    "    patient_conditions = []\n",
    "    for p in pid_claim_map:\n",
    "        patient_claims = []\n",
    "        patient_claims_flags = []\n",
    "        for claim in pid_claim_map[p]:\n",
    "            claim_codes = []\n",
    "            for line_trans in claim_info_map[claim]:\n",
    "                claim_id, diag_set, proc, majcat, svcdt, gender, dob, paid, enc_id = line_trans\n",
    "                if early_age == 1:\n",
    "                    if (svcdt - dob).days > 2*365 or (svcdt - dob).days < 0.5*365:continue \n",
    "                if early_age == 0:\n",
    "                    if (svcdt - dob).days > 5*365 or (svcdt - dob).days < 2*365:continue \n",
    "                codes = [x.replace('.','') for x in diag_set if x!='']\n",
    "                claim_codes.extend(codes)\n",
    "            claim_codes = list(set(claim_codes))\n",
    "            if svcdt.year >2015: icd10_flag=1\n",
    "            elif svcdt.year <2015: icd10_flag=0\n",
    "            else: icd10_flag= check_icd10_flag(claim_codes)\n",
    "            patient_claims.append(claim_codes)\n",
    "            patient_claims_flags.append(icd10_flag)\n",
    "        if PMCA_more_flag==0:patient_conditions.append(PMCA_less(patient_claims, patient_claims_flags))\n",
    "        if PMCA_more_flag==1:patient_conditions.append(PMCA_more(patient_claims, patient_claims_flags))\n",
    "    return patient_conditions"
   ]
  },
  {
   "cell_type": "code",
   "execution_count": null,
   "metadata": {},
   "outputs": [],
   "source": [
    "patient_condition_early_more = PC_check(pid_claim_map, claim_info_map, early_age=1, PMCA_more_flag=1)\n",
    "patient_condition_late_more = PC_check(pid_claim_map, claim_info_map, early_age=0, PMCA_more_flag=1)\n",
    "\n",
    "patient_condition_early_less = PC_check(pid_claim_map, claim_info_map, early_age=1, PMCA_more_flag=0)\n",
    "patient_condition_late_less = PC_check(pid_claim_map, claim_info_map, early_age=0, PMCA_more_flag=0)"
   ]
  },
  {
   "cell_type": "markdown",
   "metadata": {},
   "source": [
    "# Count condition based on group-ID (clusted by K-means)"
   ]
  },
  {
   "cell_type": "markdown",
   "metadata": {},
   "source": [
    "# Bar plot result"
   ]
  },
  {
   "cell_type": "code",
   "execution_count": null,
   "metadata": {
    "collapsed": true
   },
   "outputs": [],
   "source": [
    "def bar_list(values, names):\n",
    "    count = Counter(values)\n",
    "    bar = [count[i]/len(values) for i in names]\n",
    "    return bar"
   ]
  },
  {
   "cell_type": "code",
   "execution_count": null,
   "metadata": {
    "collapsed": true
   },
   "outputs": [],
   "source": [
    "def analysis_plot(patient_condition, zero_index, group_id):\n",
    "    barWidth = 0.9\n",
    "    patient_condition = np.array(patient_condition)\n",
    "    names = ['1 Non-Chronic', '2 Non-complex Chronic', '3 Complex Chronic']\n",
    "\n",
    "    bar_overall = bar_list(patient_condition, names)\n",
    "    bar_group_0 = bar_list(patient_condition[zero_index], names)\n",
    "    bar_group_1 = bar_list(patient_condition[np.array(nonzero_index)[group_id[0]]], names)\n",
    "    bar_group_2 = bar_list(patient_condition[np.array(nonzero_index)[group_id[1]]], names)\n",
    "    bar_group_3 = bar_list(patient_condition[np.array(nonzero_index)[group_id[2]]], names)\n",
    "    bar_group_4 = bar_list(patient_condition[np.array(nonzero_index)[group_id[3]]], names)\n",
    "    gap = [0]*len(names)\n",
    "    \n",
    "    r1 = [1+ x*7 for x in range(len(names))]\n",
    "    r2 = [2+ x*7 for x in range(len(names))]\n",
    "    r3 = [3+ x*7 for x in range(len(names))]\n",
    "    r4 = [4+ x*7 for x in range(len(names))]\n",
    "    r5 = [5+ x*7 for x in range(len(names))]\n",
    "    r6 = [6+ x*7 for x in range(len(names))]\n",
    "    r7 = [7+ x*7 for x in range(len(names))]\n",
    "    \n",
    "    plt.xticks([3 + x*7 for x in range(len(names))], [x[2:15] for x in names])\n",
    "\n",
    "    plt.bar(r1, bar_overall, width = barWidth, color = np.random.rand(3,), label='bar_overall')\n",
    "    plt.bar(r2, bar_group_0, width = barWidth, color = np.random.rand(3,), label='bar_group_0')\n",
    "    plt.bar(r3, bar_group_1, width = barWidth, color = np.random.rand(3,), label='bar_group_1')\n",
    "    plt.bar(r4, bar_group_2, width = barWidth, color = np.random.rand(3,), label='bar_group_2')\n",
    "    plt.bar(r5, bar_group_3, width = barWidth, color = np.random.rand(3,), label='bar_group_3')\n",
    "    plt.bar(r6, bar_group_4, width = barWidth, color = np.random.rand(3,), label='bar_group_4')\n",
    "    plt.bar(r7, gap, width = barWidth)\n",
    "\n",
    "\n",
    "    plt.legend()\n",
    "    plt.show()"
   ]
  },
  {
   "cell_type": "code",
   "execution_count": null,
   "metadata": {},
   "outputs": [],
   "source": [
    "analysis_plot(patient_condition_early_more, zero_index, group_id)"
   ]
  },
  {
   "cell_type": "code",
   "execution_count": null,
   "metadata": {},
   "outputs": [],
   "source": [
    "analysis_plot(patient_condition_early_less, zero_index, group_id)"
   ]
  },
  {
   "cell_type": "code",
   "execution_count": null,
   "metadata": {},
   "outputs": [],
   "source": [
    "analysis_plot(patient_condition_late_less, zero_index, group_id)"
   ]
  },
  {
   "cell_type": "code",
   "execution_count": null,
   "metadata": {},
   "outputs": [],
   "source": [
    "analysis_plot(patient_condition_early_less, zero_index, group_id)"
   ]
  },
  {
   "cell_type": "markdown",
   "metadata": {},
   "source": [
    "# Table result"
   ]
  },
  {
   "cell_type": "code",
   "execution_count": null,
   "metadata": {
    "collapsed": true
   },
   "outputs": [],
   "source": [
    "def analysis(patient_condition, zero_index, group_id):\n",
    "    patient_condition = np.array(patient_condition)\n",
    "    count = Counter(patient_condition)\n",
    "    print(\"Overall:\")\n",
    "    for i in sorted(count):\n",
    "        print(i, ': %i(%0.1f' %(count[i],(count[i] / len(patient_condition)) * 100.0) + '%)')\n",
    "    print()\n",
    "    \n",
    "    count = Counter(patient_condition[zero_index])\n",
    "    print(\"For Group-0 (n=%i):\"%len(zero_index))\n",
    "    for i in sorted(count):\n",
    "        print(i, '%i(%0.1f' %(count[i],(count[i] / len(zero_index)) * 100.0) + '%)')\n",
    "    print()\n",
    "\n",
    "    for gid in range(4):\n",
    "        print(\"For Group-%i (n=%i):\"%(gid+1, len(group_id[gid])))\n",
    "        count = Counter(patient_condition[np.array(nonzero_index)[group_id[gid]]])\n",
    "        for i in sorted(count):\n",
    "            print(i, '%i(%0.1f' %(count[i],(count[i] / len(group_id[gid])) * 100.0) + '%)')\n",
    "        print()"
   ]
  },
  {
   "cell_type": "code",
   "execution_count": null,
   "metadata": {},
   "outputs": [],
   "source": [
    "print(\"patient_condition_early_more\")\n",
    "print()\n",
    "analysis(patient_condition_early_more, zero_index, group_id)"
   ]
  },
  {
   "cell_type": "code",
   "execution_count": null,
   "metadata": {},
   "outputs": [],
   "source": [
    "print(\"patient_condition_late_more\")\n",
    "print()\n",
    "analysis(patient_condition_late_more, zero_index, group_id)"
   ]
  },
  {
   "cell_type": "code",
   "execution_count": null,
   "metadata": {},
   "outputs": [],
   "source": [
    "print(\"patient_condition_early_less\")\n",
    "print()\n",
    "analysis(patient_condition_early_less, zero_index, group_id)"
   ]
  },
  {
   "cell_type": "code",
   "execution_count": null,
   "metadata": {},
   "outputs": [],
   "source": [
    "print(\"patient_condition_late_less\")\n",
    "print()\n",
    "analysis(patient_condition_late_less, zero_index, group_id)"
   ]
  },
  {
   "cell_type": "code",
   "execution_count": null,
   "metadata": {
    "collapsed": true
   },
   "outputs": [],
   "source": []
  },
  {
   "cell_type": "code",
   "execution_count": null,
   "metadata": {
    "collapsed": true
   },
   "outputs": [],
   "source": []
  }
 ],
 "metadata": {
  "kernelspec": {
   "display_name": "Python 3",
   "language": "python",
   "name": "python3"
  },
  "language_info": {
   "codemirror_mode": {
    "name": "ipython",
    "version": 3
   },
   "file_extension": ".py",
   "mimetype": "text/x-python",
   "name": "python",
   "nbconvert_exporter": "python",
   "pygments_lexer": "ipython3",
   "version": "3.6.1"
  }
 },
 "nbformat": 4,
 "nbformat_minor": 2
}
